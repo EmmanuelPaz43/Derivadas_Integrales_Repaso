{
  "nbformat": 4,
  "nbformat_minor": 0,
  "metadata": {
    "colab": {
      "name": "Integral_Prueba.ipynb",
      "provenance": [],
      "authorship_tag": "ABX9TyM4xvz0mPLmwHal5revJvgK",
      "include_colab_link": true
    },
    "kernelspec": {
      "name": "python3",
      "display_name": "Python 3"
    },
    "language_info": {
      "name": "python"
    }
  },
  "cells": [
    {
      "cell_type": "markdown",
      "metadata": {
        "id": "view-in-github",
        "colab_type": "text"
      },
      "source": [
        "<a href=\"https://colab.research.google.com/github/EmmanuelPaz43/Derivadas_Integrales_Repaso/blob/main/Integral_Prueba.ipynb\" target=\"_parent\"><img src=\"https://colab.research.google.com/assets/colab-badge.svg\" alt=\"Open In Colab\"/></a>"
      ]
    },
    {
      "cell_type": "code",
      "metadata": {
        "colab": {
          "base_uri": "https://localhost:8080/"
        },
        "id": "FfB2Zzm_6jRr",
        "outputId": "2ff0f402-cf3f-4b37-9d61-6b12151e3e80"
      },
      "source": [
        "# Programa para calcular la infetral de f(t)=2t y evaluarla entre 0 y 5\n",
        "# Autor: Emmanuel Paz Córdova\n",
        "# Fecha: Septiembre 15, 2021\n",
        "\n",
        "import matplotlib.pyplot as plt\n",
        "import numpy as np\n",
        "import math\n",
        "\n",
        "def fprima(t): # Función f(t)=2t\n",
        "  return 3+12*t**2\n",
        "\n",
        "def f(t): # Función integrada F(t)=t^2\n",
        "  return  4*t**3\n",
        "\n",
        "def sumariemann(fprima, a, b, n):\n",
        "  sumval=0\n",
        "  h=(b-a)/n\n",
        "  sumval=h*sum(fprima(a+(i*h))for i in range(0, n))\n",
        "  return sumval\n",
        "\n",
        "print(\"¿Hasta que punto quieres calcular la integral?\")\n",
        "a=int(input(\"\"))\n",
        "print(\"¿Hasta que punto quiere calcular la integral?\")\n",
        "b=int(input(\"\"))\n",
        "print(\"Ingrese el número de particiones: \")\n",
        "n=int(input(\"\"))\n",
        "\n",
        "integral_exacta=f(b)-f(a)\n",
        "print(\"La integral numérica es: \", sumariemann(fprima, a, b, n))\n",
        "print(\"La integral exacta es: \", integral_exacta)"
      ],
      "execution_count": 1,
      "outputs": [
        {
          "output_type": "stream",
          "name": "stdout",
          "text": [
            "¿Hasta que punto quieres calcular la integral?\n",
            "12\n",
            "¿Hasta que punto quiere calcular la integral?\n",
            "18\n",
            "Ingrese el número de particiones: \n",
            "10\n",
            "La integral numérica es:  15790.32\n",
            "La integral exacta es:  16416\n"
          ]
        }
      ]
    }
  ]
}