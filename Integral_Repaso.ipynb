{
  "nbformat": 4,
  "nbformat_minor": 0,
  "metadata": {
    "colab": {
      "name": "Integral_Repaso.ipynb",
      "provenance": [],
      "collapsed_sections": [],
      "authorship_tag": "ABX9TyM6OkOP5cPf5NI/PzETfnnW",
      "include_colab_link": true
    },
    "kernelspec": {
      "name": "python3",
      "display_name": "Python 3"
    },
    "language_info": {
      "name": "python"
    }
  },
  "cells": [
    {
      "cell_type": "markdown",
      "metadata": {
        "id": "view-in-github",
        "colab_type": "text"
      },
      "source": [
        "<a href=\"https://colab.research.google.com/github/EmmanuelPaz43/Derivadas_Integrales_Repaso/blob/main/Integral_Repaso.ipynb\" target=\"_parent\"><img src=\"https://colab.research.google.com/assets/colab-badge.svg\" alt=\"Open In Colab\"/></a>"
      ]
    },
    {
      "cell_type": "code",
      "metadata": {
        "colab": {
          "base_uri": "https://localhost:8080/",
          "height": 384
        },
        "id": "tLhAhs8kv8KD",
        "outputId": "41babb1f-0f9b-4ec4-c64f-ec805ff81be6"
      },
      "source": [
        "# Programa que calcula la integral a primera aproximación de una función.\n",
        "# Autor: Emmanuel Paz Córdova\n",
        "# Fecha: Septiembre 8, 2021\n",
        "\n",
        "import matplotlib.pyplot as plt\n",
        "import numpy as np\n",
        "import math\n",
        "\n",
        "def fprima(t): # Función f(t)\n",
        "  return 3+12*t**2 # 3+12t^2\n",
        "\n",
        "def f1(t): # Integral F(t)\n",
        "  return 3*t+4*t**3 # 3t+12t^2\n",
        "\n",
        "print(\"¿Desde que punto quieres calcular la integral\")\n",
        "puntoinicial_tiempo=float(input(\"\"))\n",
        "print(\"¿hasta que punto quieres calcular la integral\")\n",
        "puntofinal_tiempo=float(input(\"\"))\n",
        "\n",
        "t1=np.arange(puntoinicial_tiempo, puntofinal_tiempo, 0.001)\n",
        "\n",
        "puntomedio=puntoinicial_tiempo+(puntofinal_tiempo-puntoinicial_tiempo)/2\n",
        "\n",
        "integralmuyaproximada=fprima(puntomedio)*(puntofinal_tiempo-puntoinicial_tiempo)\n",
        "integralexacta=f(puntofinal_tiempo)-f(puntoinicial_tiempo)\n",
        "\n",
        "print(\"El valor de la integral numérica (a primera aproximación) de la función es: \", integralmuyaproximada)\n",
        "print(\"El valor de la integral exacta de la función es: \", integralexacta)\n",
        "\n",
        "# Gráfica de la Función Original\n",
        "plt.plot(t1, fprima(t1), label='f(t)')\n",
        "# Gráfica Integral Exacta\n",
        "plt.plot(t1, f1(t1), label='Integral')# La derivada exacta es evaluando la derivada de la función\n",
        "# Nombre de los ejes x y y\n",
        "plt.xlabel(\"Variable Independiente (t) [units]\")\n",
        "plt.ylabel(\"Variable Dependiente f(t) [units]\")\n",
        "# Impresión del nombre de cada función\n",
        "plt.legend()\n",
        "# Creación de la gráfica\n",
        "plt.show()"
      ],
      "execution_count": 5,
      "outputs": [
        {
          "output_type": "stream",
          "name": "stdout",
          "text": [
            "¿Desde que punto quieres calcular la integral\n",
            "12\n",
            "¿hasta que punto quieres calcular la integral\n",
            "18\n",
            "El valor de la integral numérica (a primera aproximación) de la función es:  16218.0\n",
            "El valor de la integral exacta de la función es:  16434.0\n"
          ]
        },
        {
          "output_type": "display_data",
          "data": {
            "image/png": "[encoded data removed]",
            "text/plain": [
              "<Figure size 432x288 with 1 Axes>"
            ]
          },
          "metadata": {
            "needs_background": "light"
          }
        }
      ]
    },
    {
      "cell_type": "code",
      "metadata": {
        "colab": {
          "base_uri": "https://localhost:8080/"
        },
        "id": "86KdnJdoFGm9",
        "outputId": "ed2a6d56-419a-4e9a-9313-7ce0a4eacffc"
      },
      "source": [
        "# Programa que calcula la integral numérica de una función.\n",
        "# Autor: Emmanuel Paz Córdova\n",
        "# Fecha: Septiembre 8, 2021\n",
        "\n",
        "import matplotlib.pyplot as plt\n",
        "import numpy as np\n",
        "import math\n",
        "\n",
        "def fprima(t): # Función f(t)\n",
        "  return 3+12*t**2 # 3+12t^2\n",
        "\n",
        "def f1(t): # Integral F(t)\n",
        "  return 3*t+4*t**3 # 3t+12t^2\n",
        "\n",
        "print(\"¿Desde que punto quieres calcular la integral\")\n",
        "puntoinicial_tiempo=float(input(\"\"))\n",
        "print(\"¿hasta que punto quieres calcular la integral\")\n",
        "puntofinal_tiempo=float(input(\"\"))\n",
        "print(\"¿Cuántos segmentos quieres usar?\")\n",
        "segmentos=float(input(\"\"))\n",
        "\n",
        "anchodedivision=(puntofinal_tiempo-puntoinicial_tiempo)/segmentos\n",
        "print(\"Ancho de la división: \", anchodedivision)\n",
        "t=np.arange(puntoinicial_tiempo, puntofinal_tiempo, anchodedivision)\n",
        "integralaproximada=0\n",
        "\n",
        "for i in t:\n",
        "  integralaproximada+=fprima(i+anchodedivision/2)*anchodedivision\n",
        "\n",
        "puntomedio=puntoinicial_tiempo+(puntofinal_tiempo-puntoinicial_tiempo)/2\n",
        "\n",
        "integralmuyaproximada=fprima(puntomedio)*(puntofinal_tiempo-puntoinicial_tiempo)\n",
        "integralexacta=f1(puntofinal_tiempo)-f1(puntoinicial_tiempo)\n",
        "\n",
        "print(\"El valor de la integral numérica (a primera aproximación) de la función es: \", integralmuyaproximada)\n",
        "print(\"El valor de la integral numérica (con \", segmentos, \"segmentos) es: \", round(integralaproximada,2))\n",
        "print(\"El valor de la integral exacta de la función es: \", integralexacta)\n",
        "\n",
        "# Gráfica de la Función Original\n",
        "#plt.plot(t1, fprima(t1), label='f(t)')\n",
        "# Gráfica Integral Exacta\n",
        "#plt.plot(t1, f1(t1), label='Integral')# La derivada exacta es evaluando la derivada de la función\n",
        "# Nombre de los ejes x y y\n",
        "#plt.xlabel(\"Variable Independiente (t) [units]\")\n",
        "#plt.ylabel(\"Variable Dependiente f(t) [units]\")\n",
        "# Impresión del nombre de cada función\n",
        "#plt.legend()\n",
        "# Creación de la gráfica\n",
        "#plt.show()"
      ],
      "execution_count": 2,
      "outputs": [
        {
          "output_type": "stream",
          "name": "stdout",
          "text": [
            "¿Desde que punto quieres calcular la integral\n",
            "12\n",
            "¿hasta que punto quieres calcular la integral\n",
            "18\n",
            "¿Cuántos segmentos quieres usar?\n",
            "10\n",
            "Ancho de la división:  0.6\n",
            "El valor de la integral numérica (a primera aproximación) de la función es:  16218.0\n",
            "El valor de la integral numérica (con  10.0 segmentos) es:  16431.84\n",
            "El valor de la integral exacta de la función es:  16434.0\n"
          ]
        }
      ]
    },
    {
      "cell_type": "code",
      "metadata": {
        "colab": {
          "base_uri": "https://localhost:8080/"
        },
        "id": "KxjUxH5LdGyN",
        "outputId": "c6707a8b-9bbf-4719-a772-146fe706ee46"
      },
      "source": [
        "# Método de Gauss Legendre para integrales númericas \n",
        "import numpy as np\n",
        "\n",
        "def function(x):\n",
        "  return 3+12*x**2\n",
        "\n",
        "def integral(n, liminf, limsup):\n",
        "  xi, weights = np.polynomial.legendre.leggauss(n)\n",
        "  numericalintegral=0\n",
        "  for i in range(0,n):\n",
        "    numericalintegral +=weights[i]*function((limsup-liminf)/2*xi[i]+(limsup+liminf)/2)\n",
        "  return ((limsup-liminf)/2)*numericalintegral\n",
        "\n",
        "print(\"La función a integrar es: 3+12t^2\")\n",
        "print(\"¿Desde que punto quieres calcular la integral? \")\n",
        "puntoinicial= float (input(\"\"))\n",
        "print(\"¿Hasta que punto quieres calcular la integral? \")\n",
        "puntofinal= float (input(\"\"))\n",
        "print(\"¿Cuál es el grado del polinomio con el que quieres trabajar? \")\n",
        "grado= int (input(\"\"))\n",
        "\n",
        "print(\"El valor numérico de tu integral es: \", integral(grado, puntoinicial, puntofinal))"
      ],
      "execution_count": 4,
      "outputs": [
        {
          "output_type": "stream",
          "name": "stdout",
          "text": [
            "La función a integrar es: 3+12t^2\n",
            "¿Desde que punto quieres calcular la integral? \n",
            "12\n",
            "¿Hasta que punto quieres calcular la integral? \n",
            "18\n",
            "¿Cuál es el grado del polinomio con el que quieres trabajar? \n",
            "3\n",
            "El valor numérico de tu integral es:  16434.000000000004\n"
          ]
        }
      ]
    }
  ]
}