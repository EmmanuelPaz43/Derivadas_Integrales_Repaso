{
  "nbformat": 4,
  "nbformat_minor": 0,
  "metadata": {
    "colab": {
      "name": "Derivada_Repaso",
      "provenance": [],
      "collapsed_sections": [],
      "authorship_tag": "ABX9TyMn/MixGew8WoFKS7XNiu30",
      "include_colab_link": true
    },
    "kernelspec": {
      "name": "python3",
      "display_name": "Python 3"
    },
    "language_info": {
      "name": "python"
    }
  },
  "cells": [
    {
      "cell_type": "markdown",
      "metadata": {
        "id": "view-in-github",
        "colab_type": "text"
      },
      "source": [
        "<a href=\"https://colab.research.google.com/github/EmmanuelPaz43/Derivadas_Integrales_Repaso/blob/main/Derivada_Repaso.ipynb\" target=\"_parent\"><img src=\"https://colab.research.google.com/assets/colab-badge.svg\" alt=\"Open In Colab\"/></a>"
      ]
    },
    {
      "cell_type": "code",
      "metadata": {
        "colab": {
          "base_uri": "https://localhost:8080/",
          "height": 276
        },
        "id": "n6Hz9JiTjgsq",
        "outputId": "565909c1-9a73-4b81-e0a5-cf29e44a7f38"
      },
      "source": [
        "# Graficar la función (e^2t)-3/2 para t∈[6, 15]\n",
        "# Autor: Paz Córdova Emmanuel\n",
        "#Fecha: Septiembre 6, 2021\n",
        "\n",
        "import matplotlib.pyplot as plt\n",
        "import numpy as np\n",
        "import math\n",
        "\n",
        "#Definimos la función\n",
        "def f1(t):\n",
        "  return np.exp(2*t)-3/2 # La función es (e^2*t)-3/2\n",
        "\n",
        "#Definir el rango de la variable independiente\n",
        "t1=np.arange(6.00, 15.10, 0.1) # Intervalo t∈[6, 15]\n",
        "\n",
        "# Gráfica de la función\n",
        "plt.plot(t1, f1(t1)) \n",
        "plt.show()"
      ],
      "execution_count": null,
      "outputs": [
        {
          "output_type": "display_data",
          "data": {
            "image/png": "[encoded data removed]",
            "text/plain": [
              "<Figure size 432x288 with 1 Axes>"
            ]
          },
          "metadata": {
            "needs_background": "light"
          }
        }
      ]
    },
    {
      "cell_type": "code",
      "metadata": {
        "colab": {
          "base_uri": "https://localhost:8080/"
        },
        "id": "vdcLJ8Rhkyj9",
        "outputId": "d2fb5266-ead1-4414-d38b-53f830174b6d"
      },
      "source": [
        "# Obtención de la derivada, y evaluarla para t=14s\n",
        "# Autor: Paz Córdova Emmanuel\n",
        "#Fecha: Septiembre 6, 2021\n",
        "\n",
        "import matplotlib.pyplot as plt\n",
        "import numpy as np\n",
        "import math\n",
        "\n",
        "#Definimos la función\n",
        "def f1(t):\n",
        "  return np.exp(2*t)-3/2 # La función es (e^2*t)-3/2\n",
        "  \n",
        "def fderivadaexacta(t):\n",
        "  return 2*np.exp(2*t) # La derivada es 2*(e^2*t)\n",
        "  \n",
        "print(\"¿Cuál es el punto en el que quieres calcular la derivada?\")\n",
        "punto_tiempo=float(input(\"\"))\n",
        "print(\"¿Cuál es el intervalo que quieres usar para calcular la derivada?\")\n",
        "intervalo=float(input(\"\"))\n",
        "\n",
        "print(\"La derivada numérica de la función en el punto dado es: \", (f1(punto_tiempo+intervalo)-f1(punto_tiempo))/intervalo) # La derivada es solo una aproximación usando un incremento\n",
        "print(\"La derivada exacta es: \", fderivadaexacta(punto_tiempo))# La derivada exacta es evaluando la derivada de la función\n"
      ],
      "execution_count": 27,
      "outputs": [
        {
          "output_type": "stream",
          "name": "stdout",
          "text": [
            "¿Cuál es el punto en el que quieres calcular la derivada?\n",
            "14\n",
            "¿Cuál es el intervalo que quieres usar para calcular la derivada?\n",
            "0.1\n",
            "La derivada numérica de la función en el punto dado es:  3202053030427.6147\n",
            "La derivada exacta es:  2892514128582.95\n"
          ]
        }
      ]
    },
    {
      "cell_type": "code",
      "metadata": {
        "colab": {
          "base_uri": "https://localhost:8080/",
          "height": 325
        },
        "id": "UY0BMX0hpE0E",
        "outputId": "f1d8e66c-a92a-4ed1-d639-a7252d726d24"
      },
      "source": [
        "# Graficar la función, la derivada numérica y la derivada exacta de la función\n",
        "# Autor: Paz Córdova Emmanuel\n",
        "#Fecha: Septiembre 6, 2021\n",
        "\n",
        "import matplotlib.pyplot as plt\n",
        "import numpy as np\n",
        "import math\n",
        "\n",
        "#Definimos la función\n",
        "def f1(t):\n",
        "  return np.exp(2*t)-3/2 # La función es (e^2*t)-3/2\n",
        "  \n",
        "def fderivadaexacta(t):\n",
        "  return 2*np.exp(2*t) # La derivada es 2*(e^2*t)\n",
        "  \n",
        "t1=np.arange(6.00, 15.00, 0.1)\n",
        "\n",
        "print(\"¿Cuál es el intervalo que quieres usar para calcular la derivada?\")\n",
        "intervalo=float(input(\"\"))\n",
        "\n",
        "# Gráfica de la función original\n",
        "plt.plot(t1, f1(t1), label='f(t)')\n",
        "# Gráfica Derivada Numérica\n",
        "plt.plot(t1, (f1(t1+intervalo)-f1(t1))/intervalo, label='Derivada Numérica') # La derivada es solo una aproximación usando un incremento\n",
        "# Gráfica Derivada Exacta\n",
        "plt.plot(t1, fderivadaexacta(t1), label='Derivada Exacta')# La derivada exacta es evaluando la derivada de la función\n",
        "# Nombre de los ejes x y y\n",
        "plt.xlabel(\"Variable Independiente (t) [units]\")\n",
        "plt.ylabel(\"Variable Dependiente f(t) [units]\")\n",
        "# Impresión del nombre de cada función\n",
        "plt.legend()\n",
        "# Creación de la gráfica\n",
        "plt.show()\n"
      ],
      "execution_count": 26,
      "outputs": [
        {
          "name": "stdout",
          "output_type": "stream",
          "text": [
            "¿Cuál es el intervalo que quieres usar para calcular la derivada?\n",
            "0.1\n"
          ]
        },
        {
          "output_type": "display_data",
          "data": {
            "image/png": "[encoded data removed]",
            "text/plain": [
              "<Figure size 432x288 with 1 Axes>"
            ]
          },
          "metadata": {
            "needs_background": "light"
          }
        }
      ]
    }
  ]
}